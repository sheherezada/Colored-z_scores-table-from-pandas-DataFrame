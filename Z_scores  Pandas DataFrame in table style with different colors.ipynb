{
 "cells": [
  {
   "cell_type": "code",
   "execution_count": 1,
   "id": "8f31e0f7",
   "metadata": {},
   "outputs": [],
   "source": [
    "import pandas as pd\n",
    "import numpy as np\n",
    "from scipy.stats import zscore"
   ]
  },
  {
   "cell_type": "code",
   "execution_count": 2,
   "id": "5a236e6b",
   "metadata": {},
   "outputs": [
    {
     "data": {
      "text/html": [
       "<div>\n",
       "<style scoped>\n",
       "    .dataframe tbody tr th:only-of-type {\n",
       "        vertical-align: middle;\n",
       "    }\n",
       "\n",
       "    .dataframe tbody tr th {\n",
       "        vertical-align: top;\n",
       "    }\n",
       "\n",
       "    .dataframe thead tr th {\n",
       "        text-align: left;\n",
       "    }\n",
       "</style>\n",
       "<table border=\"1\" class=\"dataframe\">\n",
       "  <thead>\n",
       "    <tr>\n",
       "      <th></th>\n",
       "      <th>Math</th>\n",
       "      <th>English</th>\n",
       "      <th>Science</th>\n",
       "    </tr>\n",
       "  </thead>\n",
       "  <tbody>\n",
       "    <tr>\n",
       "      <th>0</th>\n",
       "      <td>1.5</td>\n",
       "      <td>2.7</td>\n",
       "      <td>3.3</td>\n",
       "    </tr>\n",
       "    <tr>\n",
       "      <th>1</th>\n",
       "      <td>5.0</td>\n",
       "      <td>6.0</td>\n",
       "      <td>7.2</td>\n",
       "    </tr>\n",
       "    <tr>\n",
       "      <th>2</th>\n",
       "      <td>9.0</td>\n",
       "      <td>10.7</td>\n",
       "      <td>11.0</td>\n",
       "    </tr>\n",
       "  </tbody>\n",
       "</table>\n",
       "</div>"
      ],
      "text/plain": [
       "  Math English Science\n",
       "0  1.5     2.7     3.3\n",
       "1  5.0     6.0     7.2\n",
       "2  9.0    10.7    11.0"
      ]
     },
     "execution_count": 2,
     "metadata": {},
     "output_type": "execute_result"
    }
   ],
   "source": [
    "# Creating pandas DataFrame\n",
    "df = pd.DataFrame\n",
    "col_1 = [1.5, 2.7, 3.3]\n",
    "col_2 = [5, 6, 7.2]\n",
    "col_3 = [9, 10.7, 11]\n",
    "df = pd.DataFrame([col_1,col_2,col_3], columns=[['Math', 'English', 'Science']])\n",
    "df"
   ]
  },
  {
   "cell_type": "code",
   "execution_count": 3,
   "id": "2257c89e",
   "metadata": {},
   "outputs": [
    {
     "data": {
      "text/html": [
       "<div>\n",
       "<style scoped>\n",
       "    .dataframe tbody tr th:only-of-type {\n",
       "        vertical-align: middle;\n",
       "    }\n",
       "\n",
       "    .dataframe tbody tr th {\n",
       "        vertical-align: top;\n",
       "    }\n",
       "\n",
       "    .dataframe thead tr th {\n",
       "        text-align: left;\n",
       "    }\n",
       "</style>\n",
       "<table border=\"1\" class=\"dataframe\">\n",
       "  <thead>\n",
       "    <tr>\n",
       "      <th></th>\n",
       "      <th>Math</th>\n",
       "      <th>English</th>\n",
       "      <th>Science</th>\n",
       "    </tr>\n",
       "  </thead>\n",
       "  <tbody>\n",
       "    <tr>\n",
       "      <th>0</th>\n",
       "      <td>-1.196642</td>\n",
       "      <td>-1.147459</td>\n",
       "      <td>-1.230012</td>\n",
       "    </tr>\n",
       "    <tr>\n",
       "      <th>1</th>\n",
       "      <td>-0.054393</td>\n",
       "      <td>-0.142163</td>\n",
       "      <td>0.010604</td>\n",
       "    </tr>\n",
       "    <tr>\n",
       "      <th>2</th>\n",
       "      <td>1.251035</td>\n",
       "      <td>1.289623</td>\n",
       "      <td>1.219409</td>\n",
       "    </tr>\n",
       "  </tbody>\n",
       "</table>\n",
       "</div>"
      ],
      "text/plain": [
       "       Math   English   Science\n",
       "0 -1.196642 -1.147459 -1.230012\n",
       "1 -0.054393 -0.142163  0.010604\n",
       "2  1.251035  1.289623  1.219409"
      ]
     },
     "execution_count": 3,
     "metadata": {},
     "output_type": "execute_result"
    }
   ],
   "source": [
    "# Taking the z_score of each column with scipy\n",
    "z_score_df = df.apply(zscore)\n",
    "z_score_df"
   ]
  },
  {
   "cell_type": "code",
   "execution_count": 4,
   "id": "c840d54a",
   "metadata": {},
   "outputs": [
    {
     "name": "stdout",
     "output_type": "stream",
     "text": [
      "[-1.1966422450849266, -1.1474594674897505, -1.2300122215703806]\n",
      "[1.2510350744069685, 1.2896225873557376, 1.2194086679361529]\n"
     ]
    }
   ],
   "source": [
    "# Creating a list for the min values of each colum and list for the max values in each column\n",
    "min_values = []\n",
    "max_values = []\n",
    "\n",
    "for x in  z_score_df:\n",
    "    min_values.append(z_score_df[x].min())\n",
    "    max_values.append(z_score_df[x].max())\n",
    "print(min_values)\n",
    "print(max_values)"
   ]
  },
  {
   "cell_type": "code",
   "execution_count": 7,
   "id": "669651c7",
   "metadata": {},
   "outputs": [
    {
     "data": {
      "text/html": [
       "<style type=\"text/css\">\n",
       "#T_5bac8_row0_col0, #T_5bac8_row0_col1, #T_5bac8_row0_col2 {\n",
       "  color: blue;\n",
       "}\n",
       "#T_5bac8_row1_col0, #T_5bac8_row1_col1, #T_5bac8_row1_col2 {\n",
       "  color: black;\n",
       "}\n",
       "#T_5bac8_row2_col0, #T_5bac8_row2_col1, #T_5bac8_row2_col2 {\n",
       "  color: red;\n",
       "}\n",
       "</style>\n",
       "<table id=\"T_5bac8\">\n",
       "  <thead>\n",
       "    <tr>\n",
       "      <th class=\"blank level0\" >&nbsp;</th>\n",
       "      <th id=\"T_5bac8_level0_col0\" class=\"col_heading level0 col0\" >('Math',)</th>\n",
       "      <th id=\"T_5bac8_level0_col1\" class=\"col_heading level0 col1\" >('English',)</th>\n",
       "      <th id=\"T_5bac8_level0_col2\" class=\"col_heading level0 col2\" >('Science',)</th>\n",
       "    </tr>\n",
       "  </thead>\n",
       "  <tbody>\n",
       "    <tr>\n",
       "      <th id=\"T_5bac8_level0_row0\" class=\"row_heading level0 row0\" >0</th>\n",
       "      <td id=\"T_5bac8_row0_col0\" class=\"data row0 col0\" >-1.196642</td>\n",
       "      <td id=\"T_5bac8_row0_col1\" class=\"data row0 col1\" >-1.147459</td>\n",
       "      <td id=\"T_5bac8_row0_col2\" class=\"data row0 col2\" >-1.230012</td>\n",
       "    </tr>\n",
       "    <tr>\n",
       "      <th id=\"T_5bac8_level0_row1\" class=\"row_heading level0 row1\" >1</th>\n",
       "      <td id=\"T_5bac8_row1_col0\" class=\"data row1 col0\" >-0.054393</td>\n",
       "      <td id=\"T_5bac8_row1_col1\" class=\"data row1 col1\" >-0.142163</td>\n",
       "      <td id=\"T_5bac8_row1_col2\" class=\"data row1 col2\" >0.010604</td>\n",
       "    </tr>\n",
       "    <tr>\n",
       "      <th id=\"T_5bac8_level0_row2\" class=\"row_heading level0 row2\" >2</th>\n",
       "      <td id=\"T_5bac8_row2_col0\" class=\"data row2 col0\" >1.251035</td>\n",
       "      <td id=\"T_5bac8_row2_col1\" class=\"data row2 col1\" >1.289623</td>\n",
       "      <td id=\"T_5bac8_row2_col2\" class=\"data row2 col2\" >1.219409</td>\n",
       "    </tr>\n",
       "  </tbody>\n",
       "</table>\n"
      ],
      "text/plain": [
       "<pandas.io.formats.style.Styler at 0x1b721aeab50>"
      ]
     },
     "execution_count": 7,
     "metadata": {},
     "output_type": "execute_result"
    }
   ],
   "source": [
    "# Setting stale for the table\n",
    "\n",
    "\n",
    "def color_map_values(val):\n",
    "    \"\"\"\n",
    "    Takes a scalar and returns a string with\n",
    "    the css property `'color: red'` for negative\n",
    "    strings, black otherwise.\n",
    "    \"\"\"\n",
    "    if val in min_values:\n",
    "        color = 'blue'\n",
    "    elif val in max_values:\n",
    "        color = 'red'\n",
    "    else:\n",
    "        color = 'black'\n",
    "    return 'color: % s' % color\n",
    "  \n",
    "\n",
    "  \n",
    "# displaying the DataFrame\n",
    "z_score_df.style.applymap(color_map_values)\n"
   ]
  },
  {
   "cell_type": "code",
   "execution_count": null,
   "id": "847ff5c3",
   "metadata": {},
   "outputs": [],
   "source": []
  },
  {
   "cell_type": "code",
   "execution_count": null,
   "id": "eeb1ab32",
   "metadata": {},
   "outputs": [],
   "source": []
  }
 ],
 "metadata": {
  "kernelspec": {
   "display_name": "Python 3 (ipykernel)",
   "language": "python",
   "name": "python3"
  },
  "language_info": {
   "codemirror_mode": {
    "name": "ipython",
    "version": 3
   },
   "file_extension": ".py",
   "mimetype": "text/x-python",
   "name": "python",
   "nbconvert_exporter": "python",
   "pygments_lexer": "ipython3",
   "version": "3.8.8"
  }
 },
 "nbformat": 4,
 "nbformat_minor": 5
}
